{
 "cells": [
  {
   "cell_type": "markdown",
   "source": [
    "## Import libraries"
   ],
   "metadata": {
    "collapsed": false
   }
  },
  {
   "cell_type": "code",
   "execution_count": 1,
   "outputs": [],
   "source": [
    "import numpy as np\n",
    "import requests\n",
    "from scipy.stats import multivariate_normal\n",
    "import re\n",
    "import copy"
   ],
   "metadata": {
    "collapsed": false,
    "pycharm": {
     "name": "#%%\n"
    }
   }
  },
  {
   "cell_type": "markdown",
   "source": [
    "## Set random seed"
   ],
   "metadata": {
    "collapsed": false,
    "pycharm": {
     "name": "#%% md\n"
    }
   }
  },
  {
   "cell_type": "code",
   "execution_count": 2,
   "outputs": [],
   "source": [
    "np.random.seed(3)"
   ],
   "metadata": {
    "collapsed": false,
    "pycharm": {
     "name": "#%%\n"
    }
   }
  },
  {
   "cell_type": "markdown",
   "source": [
    "## Construct EM"
   ],
   "metadata": {
    "collapsed": false,
    "pycharm": {
     "name": "#%% md\n"
    }
   }
  },
  {
   "cell_type": "code",
   "execution_count": 3,
   "outputs": [],
   "source": [
    "class EM:\n",
    "\n",
    "    def __init__(self, total_components: int = 2, weights_init = None, features_size: int = 2):\n",
    "        \"\"\"Initialize parameter of EM, total_components -> number of latent variables, features_size -> number of features/dimensions of data to consider \"\"\"\n",
    "        self.n_iter = np.inf\n",
    "        self.x = None\n",
    "        self.t_features = features_size\n",
    "        self.total_components = total_components\n",
    "\n",
    "        if weights_init is None:\n",
    "            self.weights_init = np.random.uniform(0, 1, size=total_components)\n",
    "            self.weights_init = self.weights_init / self.weights_init.sum() # normalize weights to add to 1 in total\n",
    "        else:\n",
    "            self.weights_init = weights_init\n",
    "            self.weights_init = self.weights_init / self.weights_init.sum()\n",
    "\n",
    "        self.mu_init = []\n",
    "        self.sigma_init = []\n",
    "\n",
    "        for i in range(total_components): # initialize mu and sigma for every component\n",
    "            self.mu_init.append(np.random.uniform(0, 1, size=features_size))\n",
    "            sigma = np.random.uniform(0, 1, size=(features_size, features_size))\n",
    "            self.sigma_init.append(sigma @ sigma.T) # to make semi-positive definite\n",
    "\n",
    "        # final theta values\n",
    "        self.final_mu = None\n",
    "        self.final_sigma = None\n",
    "        self.final_weights = None\n",
    "\n",
    "    def get_data(self, api_calls: int = 30):\n",
    "        \"\"\"Get data from the API\"\"\"\n",
    "        x = []\n",
    "        for i in range(api_calls):\n",
    "            r = requests.get(\"https://24zl01u3ff.execute-api.us-west-1.amazonaws.com/beta\")\n",
    "            x.append(np.array(re.findall(r\"\\d\", r.json()['body']), \"int\"))\n",
    "\n",
    "        self.x = np.array(x)\n",
    "\n",
    "    def init_EM(self):\n",
    "        \"\"\"Reinitialize EM if needed\"\"\"\n",
    "        self.weights_init = np.random.uniform(0, 1, size=self.total_components)\n",
    "        self.weights_init = self.weights_init / self.weights_init.sum()\n",
    "\n",
    "        self.mu_init = []\n",
    "        self.sigma_init = []\n",
    "\n",
    "        for i in range(self.total_components):\n",
    "            self.mu_init.append(np.random.uniform(0, 1, size=self.t_features))\n",
    "            sigma = np.random.uniform(0, 1, size=(self.t_features, self.t_features))\n",
    "            self.sigma_init.append(sigma @ sigma.T)\n",
    "\n",
    "    def train(self, max_iterations: int = 200):\n",
    "        \"\"\"Train model using EM algorithm, max_iterations -> max iterations for which the algorithm should run\"\"\"\n",
    "        if self.x is None:\n",
    "            self.get_data()\n",
    "\n",
    "        if self.t_features == 1:\n",
    "            x_mean = self.x.mean(axis=1, keepdims=True) # take probability of head for every draw\n",
    "\n",
    "        elif self.t_features == 2:\n",
    "            one_col = self.x.mean(axis=1, keepdims=True)\n",
    "            x_mean = np.hstack([one_col, 1 - one_col])      # take probability of head/tail for every draw in two columns\n",
    "\n",
    "        else:\n",
    "            x_mean = self.x[:, np.min(self.x.shape[1], self.t_features)]\n",
    "\n",
    "        last = np.inf\n",
    "        mu = copy.deepcopy(self.mu_init)\n",
    "        sigma = copy.deepcopy(self.sigma_init)\n",
    "        weights = copy.deepcopy(self.weights_init)\n",
    "\n",
    "        for i in range(max_iterations):\n",
    "\n",
    "            # E-step\n",
    "            gamma = []\n",
    "            for tc in range(self.total_components):\n",
    "                # gamma_n_k\n",
    "                gamma.append(weights[tc] * multivariate_normal(mu[tc], sigma[tc], allow_singular=True).pdf(x_mean))\n",
    "\n",
    "            gamma = np.array(gamma)\n",
    "\n",
    "            pyx = np.log(gamma)\n",
    "            pyx_norm = np.log(np.sum(np.exp(pyx), axis=0, keepdims=True))\n",
    "            pyx = np.exp(pyx - pyx_norm)\n",
    "            last_1 = gamma.mean()\n",
    "\n",
    "            gamma = pyx\n",
    "\n",
    "            if np.abs(last_1 - last) < 1e-20:   # converge criteria\n",
    "                print(f\"Ended at {i}\")\n",
    "                self.n_iter = i\n",
    "                break\n",
    "\n",
    "            # M-step\n",
    "            for tc in range(self.total_components):\n",
    "                weights[tc] = gamma[tc].mean()\n",
    "\n",
    "            for tc in range(self.total_components):\n",
    "                sigma[tc] = (x_mean - mu[tc]).T @ (gamma[tc][..., np.newaxis] * (x_mean - mu[tc])) / np.sum(gamma[tc])\n",
    "                mu[tc] = x_mean.T @ gamma[tc] / np.sum(gamma[tc])\n",
    "\n",
    "            last = last_1\n",
    "\n",
    "        print(f\"\"\"Theta:\\n\n",
    "        mu: {mu}\\n\n",
    "        sigma: {sigma}\\n\n",
    "        weights: {weights}\\n\"\"\")\n",
    "\n",
    "        # assign final theta parameters after training\n",
    "        self.final_mu = mu\n",
    "        self.final_sigma = sigma\n",
    "        self.final_weights = weights\n",
    "\n",
    "    def predict(self, data):\n",
    "        \"\"\"Predict class membership\"\"\"\n",
    "        if (self.x is None) or (self.final_mu is None):\n",
    "            print(\"Model not trained yet\")\n",
    "            return None\n",
    "\n",
    "        data = np.array(data)\n",
    "        if self.t_features == 1:\n",
    "            x_mean = data.mean(axis=1, keepdims=True)\n",
    "\n",
    "        elif self.t_features == 2:\n",
    "            one_col = data.mean(axis=1, keepdims=True)\n",
    "            x_mean = np.hstack([one_col, 1 - one_col])\n",
    "\n",
    "        else:\n",
    "            x_mean = data[:, np.min(self.x.shape[1], self.t_features)]\n",
    "\n",
    "        gamma = []\n",
    "\n",
    "        for i in range(self.total_components):\n",
    "            gamma.append(self.final_weights[i] * multivariate_normal(self.final_mu[i], self.final_sigma[i], allow_singular=True).pdf(x_mean))\n",
    "\n",
    "        gamma = np.array(gamma)\n",
    "\n",
    "        return np.argmax(gamma, axis = 0) + 1"
   ],
   "metadata": {
    "collapsed": false,
    "pycharm": {
     "name": "#%%\n"
    }
   }
  },
  {
   "cell_type": "markdown",
   "source": [
    "## Trial run the algorithm"
   ],
   "metadata": {
    "collapsed": false,
    "pycharm": {
     "name": "#%% md\n"
    }
   }
  },
  {
   "cell_type": "code",
   "execution_count": 4,
   "outputs": [
    {
     "name": "stdout",
     "output_type": "stream",
     "text": [
      "Ended at 127\n",
      "Theta:\n",
      "\n",
      "        mu: [array([0.29426327]), array([0.66974087])]\n",
      "\n",
      "        sigma: [array([[0.00738688]]), array([[0.00881992]])]\n",
      "\n",
      "        weights: [0.54084238 0.45915762]\n",
      "\n"
     ]
    }
   ],
   "source": [
    "em = EM(2, features_size=1)\n",
    "em.get_data()\n",
    "em.train()"
   ],
   "metadata": {
    "collapsed": false,
    "pycharm": {
     "name": "#%%\n"
    }
   }
  },
  {
   "cell_type": "code",
   "execution_count": null,
   "outputs": [],
   "source": [],
   "metadata": {
    "collapsed": false,
    "pycharm": {
     "name": "#%%\n"
    }
   }
  }
 ],
 "metadata": {
  "kernelspec": {
   "name": "python3.10",
   "language": "python",
   "display_name": "Python 3.10"
  },
  "language_info": {
   "codemirror_mode": {
    "name": "ipython",
    "version": 2
   },
   "file_extension": ".py",
   "mimetype": "text/x-python",
   "name": "python",
   "nbconvert_exporter": "python",
   "pygments_lexer": "ipython2",
   "version": "2.7.6"
  }
 },
 "nbformat": 4,
 "nbformat_minor": 0
}